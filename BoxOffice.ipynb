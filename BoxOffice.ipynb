{
 "cells": [
  {
   "cell_type": "markdown",
   "metadata": {
    "id": "eroY5nKeB5s_"
   },
   "source": [
    "## IMPORTING THE LIBRARIES"
   ]
  },
  {
   "cell_type": "code",
   "execution_count": null,
   "metadata": {
    "id": "rpot3-uYB4Tc"
   },
   "outputs": [],
   "source": [
    "import numpy as np\n",
    "import matplotlib.pyplot as plt\n",
    "import pandas as pd\n",
    "import seaborn as sb"
   ]
  },
  {
   "cell_type": "markdown",
   "metadata": {
    "id": "dblkODQhCIAD"
   },
   "source": [
    "## IMPORTING AND ANALYSIS THE DATASET"
   ]
  },
  {
   "cell_type": "code",
   "execution_count": null,
   "metadata": {
    "id": "Vio32CeuCTKn"
   },
   "outputs": [],
   "source": [
    "dataset = pd.read_csv('boxoffice.csv', encoding='latin-1')"
   ]
  },
  {
   "cell_type": "code",
   "execution_count": null,
   "metadata": {},
   "outputs": [],
   "source": [
    "to_remove = ['world_revenue', 'opening_revenue']    #only domestic_revenue is to be predicted \n",
    "dataset.drop(to_remove, axis=1, inplace=True)"
   ]
  },
  {
   "cell_type": "code",
   "execution_count": null,
   "metadata": {
    "id": "Ey6PEecwPBCG"
   },
   "outputs": [],
   "source": [
    "print(dataset.info())"
   ]
  },
  {
   "cell_type": "code",
   "execution_count": null,
   "metadata": {
    "id": "F6hHeEGSPEka"
   },
   "outputs": [],
   "source": [
    "dataset.isnull().sum()                                  #checking if any columns have null values"
   ]
  },
  {
   "cell_type": "markdown",
   "metadata": {},
   "source": [
    "### Filling The Empty Values"
   ]
  },
  {
   "cell_type": "code",
   "execution_count": null,
   "metadata": {},
   "outputs": [],
   "source": [
    "dataset['MPAA'] = dataset['MPAA'].fillna('Not Rated')\n",
    "dataset['genres'] = dataset['genres'].fillna(dataset['genres'].mode()[0])\n",
    "\n",
    "dataset['MPAA'].isnull().sum().sum()\n",
    "dataset['genres'].isnull().sum().sum()"
   ]
  },
  {
   "cell_type": "markdown",
   "metadata": {},
   "source": [
    "### Cleaning data (making str type to numeric)"
   ]
  },
  {
   "cell_type": "code",
   "execution_count": null,
   "metadata": {},
   "outputs": [],
   "source": [
    "dataset['budget'] = dataset['budget'].str[1:]    #removing the dollar sign from the inputs\n",
    "dataset['domestic_revenue'] = dataset['domestic_revenue'].str[1:]\n",
    " \n",
    "for col in ['domestic_revenue', 'opening_theaters', 'release_days', 'budget']:    #removes the commas in the string\n",
    "    dataset[col] = dataset[col].str.replace(',', '')\n",
    " \n",
    "    # Selecting rows with no null values\n",
    "    # in the columns on which we are iterating.\n",
    "    \n",
    "    temp = (~dataset[col].isnull())\n",
    "    dataset.loc[temp, col] = dataset.loc[temp, col].convert_dtypes(float)\n",
    " \n",
    "    dataset[col] = pd.to_numeric(dataset[col], errors='coerce') #This line attempts to convert the entire column 'col' to numeric data. \n",
    "                                                                #The errors='coerce' argument means that any non-numeric values will be converted to NaN (Not-a-Number)."
   ]
  },
  {
   "cell_type": "code",
   "execution_count": null,
   "metadata": {},
   "outputs": [],
   "source": [
    "from sklearn.impute import SimpleImputer\n",
    "imputer = SimpleImputer(missing_values=np.nan, strategy='mean')\n",
    "X = dataset.iloc[:, 3:4].values\n",
    "imputer.fit(X)\n",
    "# Transform and assign it back\n",
    "dataset.iloc[:, 3:4] = imputer.transform(X)\n",
    "\n",
    "imputer = SimpleImputer(missing_values=np.nan, strategy='mean')\n",
    "X = dataset.iloc[:, 4:5].values\n",
    "imputer.fit(X)\n",
    "# Transform and assign it back\n",
    "dataset.iloc[:, 4:5] = imputer.transform(X)"
   ]
  },
  {
   "cell_type": "markdown",
   "metadata": {},
   "source": [
    "### Visualization"
   ]
  },
  {
   "cell_type": "code",
   "execution_count": null,
   "metadata": {},
   "outputs": [],
   "source": [
    "plt.figure(figsize=(20, 10))               # Count of different unique elements in column X\n",
    "sb.countplot(data=dataset, x='distributor')\n",
    "plt.show()"
   ]
  },
  {
   "cell_type": "code",
   "execution_count": null,
   "metadata": {},
   "outputs": [],
   "source": [
    "dataset.groupby('MPAA')['domestic_revenue'].mean()  # Mean Domestic_revenue for each unique element in X"
   ]
  },
  {
   "cell_type": "markdown",
   "metadata": {
    "id": "wLSsF_Q2DA4s"
   },
   "source": [
    "## DATASET MODIFICATION"
   ]
  },
  {
   "cell_type": "code",
   "execution_count": null,
   "metadata": {},
   "outputs": [],
   "source": [
    "# Splitting the multiple genres in induvigual columns\n",
    "\n",
    "from sklearn.feature_extraction.text import CountVectorizer\n",
    "\n",
    "vectorizer = CountVectorizer()\n",
    "vectorizer.fit(dataset['genres'])\n",
    "features = vectorizer.transform(dataset['genres']).toarray()\n",
    "\n",
    "genres = vectorizer.get_feature_names_out()\n",
    "for i, name in enumerate(genres):\n",
    "    dataset[name] = features[:, i]\n",
    "\n",
    "dataset.drop('genres', axis=1, inplace=True)"
   ]
  },
  {
   "cell_type": "code",
   "execution_count": null,
   "metadata": {},
   "outputs": [],
   "source": [
    "dataset.head()"
   ]
  },
  {
   "cell_type": "code",
   "execution_count": null,
   "metadata": {},
   "outputs": [],
   "source": [
    "# Removing columns having more\n",
    "    # than 95% of the values as zero.\n",
    "    \n",
    "removed = 0\n",
    "for col in dataset.loc[:, 'action':'western'].columns:\n",
    "  \n",
    "    if (dataset[col] == 0).mean() > 0.95:\n",
    "        removed += 1\n",
    "        dataset.drop(col, axis=1, inplace=True)"
   ]
  },
  {
   "cell_type": "code",
   "execution_count": null,
   "metadata": {},
   "outputs": [],
   "source": [
    "from sklearn.preprocessing import LabelEncoder\n",
    "\n",
    "for col in ['distributor', 'MPAA']:\n",
    "\tle = LabelEncoder()\n",
    "\tdataset[col] = le.fit_transform(dataset[col])"
   ]
  },
  {
   "cell_type": "code",
   "execution_count": null,
   "metadata": {
    "id": "QGJ-b8g2D2lH",
    "scrolled": true
   },
   "outputs": [],
   "source": [
    "plt.figure(figsize=(15, 15))\n",
    "sb.heatmap(dataset.iloc[:, 1:].corr()>0.8, annot=True, cbar=False)      #to check if any columns are related\n",
    "plt.show()"
   ]
  },
  {
   "cell_type": "code",
   "execution_count": null,
   "metadata": {},
   "outputs": [],
   "source": [
    "dataset.head()"
   ]
  },
  {
   "cell_type": "markdown",
   "metadata": {
    "id": "RVggWdnpEy0S"
   },
   "source": [
    "## SPLITTING TRAINING SET AND TEST SET"
   ]
  },
  {
   "cell_type": "code",
   "execution_count": null,
   "metadata": {
    "id": "0dMxnvEPQwQo"
   },
   "outputs": [],
   "source": [
    "features = dataset.drop(['domestic_revenue', 'title'], axis=1)\n",
    "target = dataset['domestic_revenue']\n",
    "\n",
    "print(features)\n",
    "print(target)"
   ]
  },
  {
   "cell_type": "code",
   "execution_count": null,
   "metadata": {
    "id": "QUYxLKbUE3Vq"
   },
   "outputs": [],
   "source": [
    "from sklearn.model_selection import train_test_split\n",
    "X_train, X_test, y_train, y_test = train_test_split(features, target, test_size = 0.2, random_state = 1)"
   ]
  },
  {
   "cell_type": "code",
   "execution_count": null,
   "metadata": {
    "id": "lALGCrUxRf-w"
   },
   "outputs": [],
   "source": [
    "print(X_train.shape)\n",
    "print(y_train.shape)\n",
    "print(X_test.shape)\n",
    "print(y_test.shape)"
   ]
  },
  {
   "cell_type": "markdown",
   "metadata": {
    "id": "hd2pZioiFtoy"
   },
   "source": [
    "# TRAINING MODEL"
   ]
  },
  {
   "cell_type": "markdown",
   "metadata": {
    "id": "ZB4bGQVra2gd"
   },
   "source": [
    "### Linear Regression"
   ]
  },
  {
   "cell_type": "code",
   "execution_count": null,
   "metadata": {
    "id": "DPaBPZFOaxCN"
   },
   "outputs": [],
   "source": [
    "from sklearn.linear_model import LinearRegression\n",
    "regressor = LinearRegression()\n",
    "regressor.fit(X_train, y_train)"
   ]
  },
  {
   "cell_type": "markdown",
   "metadata": {
    "id": "UEBiphd3a73Y"
   },
   "source": [
    "### Polynomial Regression"
   ]
  },
  {
   "cell_type": "code",
   "execution_count": null,
   "metadata": {
    "id": "_79XyCCHan_3"
   },
   "outputs": [],
   "source": [
    "from sklearn.preprocessing import PolynomialFeatures\n",
    "from sklearn.linear_model import LinearRegression\n",
    "from sklearn.pipeline import make_pipeline\n",
    "\n",
    "regressor = make_pipeline(PolynomialFeatures(4), LinearRegression())\n",
    "regressor.fit(X_train, y_train)"
   ]
  },
  {
   "cell_type": "markdown",
   "metadata": {
    "id": "rgYf8V0ycIkc"
   },
   "source": [
    "### Decision Tree"
   ]
  },
  {
   "cell_type": "code",
   "execution_count": null,
   "metadata": {
    "id": "Lp69XWPwcMq2"
   },
   "outputs": [],
   "source": [
    "from sklearn.tree import DecisionTreeRegressor\n",
    "regressor = DecisionTreeRegressor(random_state = 0)\n",
    "regressor.fit(X_train, y_train)"
   ]
  },
  {
   "cell_type": "markdown",
   "metadata": {
    "id": "4g1OskTOco5c"
   },
   "source": [
    "### Random Forest"
   ]
  },
  {
   "cell_type": "code",
   "execution_count": null,
   "metadata": {
    "id": "Oxx1xjIccsah"
   },
   "outputs": [],
   "source": [
    "from sklearn.ensemble import RandomForestRegressor\n",
    "regressor = RandomForestRegressor(n_estimators = 10, random_state = 0)\n",
    "regressor.fit(X_train, y_train)"
   ]
  },
  {
   "cell_type": "markdown",
   "metadata": {
    "id": "8OF6_84GdWiq"
   },
   "source": [
    "### XGBOOST"
   ]
  },
  {
   "cell_type": "code",
   "execution_count": null,
   "metadata": {
    "id": "21mawDlbdYq3"
   },
   "outputs": [],
   "source": [
    "from xgboost import XGBRegressor\n",
    "regressor = XGBRegressor()\n",
    "regressor.fit(X_train, y_train)"
   ]
  },
  {
   "cell_type": "markdown",
   "metadata": {
    "id": "JOaHKyWbGBYQ"
   },
   "source": [
    "## PREDICTING TEST SET"
   ]
  },
  {
   "cell_type": "code",
   "execution_count": null,
   "metadata": {
    "id": "xKjEoWpeGU_Y"
   },
   "outputs": [],
   "source": [
    "y_pred = regressor.predict(X_test)"
   ]
  },
  {
   "cell_type": "code",
   "execution_count": null,
   "metadata": {
    "id": "6BWUVa4XGcVh"
   },
   "outputs": [],
   "source": [
    "# np.set_printoptions(precision=2)\n",
    "# print(np.concatenate((y_pred.reshape(len(y_pred),1), y_test.reshape(len(y_test),1)),1))\n",
    "results = list(zip(y_pred, y_test))\n",
    "for item in results:\n",
    "    print(item)"
   ]
  },
  {
   "cell_type": "code",
   "execution_count": null,
   "metadata": {},
   "outputs": [],
   "source": [
    "from sklearn.metrics import r2_score\n",
    "\n",
    "r_squared = r2_score(y_test, y_pred)\n",
    "print(f\"Efficiency (R-SQUARED): {r_squared*100}%\")"
   ]
  },
  {
   "cell_type": "markdown",
   "metadata": {
    "id": "OfdKjXJNGsHC"
   },
   "source": [
    "## PREDICTING SINGLE VALUE"
   ]
  },
  {
   "cell_type": "code",
   "execution_count": null,
   "metadata": {
    "id": "dqhEW6g7UdE5"
   },
   "outputs": [],
   "source": [
    "# d = 1  #int(input(\"distributor: \")) \n",
    "# opening_theaters = 68    #int(input(\"opening_theaters: \"))\n",
    "# budget = 190   #int(input(\"budget: \"))\n",
    "# MPAA = 94   #int(input(\"MPAA: \"))\n",
    "# release_days = 29    #int(input(\"Enter duration of exercise: \"))\n",
    "# heart_rate = 105  #int(input(\"Enter heart rate: \"))\n",
    "# temp = 40.8        #int(input(\"Enter body tempertaure: \"))\n",
    "# print()\n",
    "\n",
    "# result = regressor.predict([[d,opening_theaters,budget,weight,duration,heart_rate,temp]])[0]\n",
    "# print(f\"Calories Burnt: {result}\")  #231.0"
   ]
  }
 ],
 "metadata": {
  "colab": {
   "provenance": []
  },
  "kernelspec": {
   "display_name": "Python 3 (ipykernel)",
   "language": "python",
   "name": "python3"
  },
  "language_info": {
   "codemirror_mode": {
    "name": "ipython",
    "version": 3
   },
   "file_extension": ".py",
   "mimetype": "text/x-python",
   "name": "python",
   "nbconvert_exporter": "python",
   "pygments_lexer": "ipython3",
   "version": "3.11.5"
  }
 },
 "nbformat": 4,
 "nbformat_minor": 1
}
